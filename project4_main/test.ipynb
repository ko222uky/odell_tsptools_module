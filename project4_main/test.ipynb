{
 "cells": [
  {
   "cell_type": "code",
   "execution_count": 45,
   "id": "08730fb6-6db3-4618-bfb7-cc1beb6fa8f4",
   "metadata": {},
   "outputs": [
    {
     "data": {
      "image/png": "[encoded data removed]",
      "text/plain": [
       "<Figure size 640x480 with 1 Axes>"
      ]
     },
     "metadata": {},
     "output_type": "display_data"
    }
   ],
   "source": [
    "import numpy as np\n",
    "import matplotlib.pyplot as plt\n",
    "import collections\n",
    "\n",
    "# Parameters\n",
    "population_size = 1000\n",
    "\n",
    "# Calculate 10% of the population size and apply ceiling function\n",
    "parent_size = np.ceil(population_size * 0.10)\n",
    "\n",
    "# Mean for Poisson distribution\n",
    "# Directly affects the bias towards individuals that get to reproduce\n",
    "lambda_value = 50 # in range [min_rank, max_rank], preferred \n",
    "\n",
    "# how many total offspring will be produced? Found from N - num_reproducing_parents\n",
    "# We keep the parents in the next generation, too! \n",
    "offspring_size = int(population_size - parent_size) \n",
    "\n",
    "# Determined by the indices of the ranked parents, 1 = first element in ranked list, 10 = last element in ranked list\n",
    "rank_min = 1\n",
    "rank_max = parent_size\n",
    "\n",
    "# Generate Poisson-distributed offspring counts\n",
    "# Note that a lower lambda value will mean that more off springs will NOT be able to reproduce.\n",
    "# A lower lambda value favors the 'best' individuals\n",
    "# A middle lambda value favors the 'middling' individuals\n",
    "# A higher lambda value favors the worst individuals\n",
    "offspring_counts = np.random.poisson(lambda_value, offspring_size)\n",
    "\n",
    "# Clamp the Poisson values to the rank range [rank_min, rank_max]\n",
    "offspring_counts_clamped = np.clip(offspring_counts, rank_min, rank_max)\n",
    "\n",
    "# Count the distribution of clamped offspring counts\n",
    "parent_rank, parent_offspring_number  = np.unique(offspring_counts_clamped, return_counts=True)\n",
    "\n",
    "# The parent_rank and parent_offspring_number can be \n",
    "\n",
    "# Plot the histogram of offspring distribution across ranks\n",
    "plt.bar(parent_rank, parent_offspring_number)\n",
    "plt.xlabel(\"Rank of Parent (1 = Highest Fitness)\")\n",
    "plt.ylabel(\"Number of Parent's Offspring\")\n",
    "plt.title(\"Offspring Distribution by Parent Rank with Poisson Offspring Counts\")\n",
    "plt.savefig(\"lambda_50\")\n",
    "plt.show()\n"
   ]
  },
  {
   "cell_type": "code",
   "execution_count": 71,
   "id": "b446464a-4dd8-4fb0-8da6-e28b3660fd00",
   "metadata": {},
   "outputs": [
    {
     "data": {
      "text/plain": [
       "0.7262760079788942"
      ]
     },
     "execution_count": 71,
     "metadata": {},
     "output_type": "execute_result"
    }
   ],
   "source": [
    "random_number = np.random.random()\n",
    "random_number"
   ]
  },
  {
   "cell_type": "code",
   "execution_count": 72,
   "id": "f8638680-a1c4-4d75-b384-1db9b3a4259a",
   "metadata": {},
   "outputs": [
    {
     "data": {
      "text/plain": [
       "array([31., 33., 34., 35., 36., 37., 38., 39., 40., 41., 42., 43., 44.,\n",
       "       45., 46., 47., 48., 49., 50., 51., 52., 53., 54., 55., 56., 57.,\n",
       "       58., 59., 60., 61., 62., 63., 64., 65., 66., 67., 68., 69., 71.,\n",
       "       73., 74., 80.])"
      ]
     },
     "execution_count": 72,
     "metadata": {},
     "output_type": "execute_result"
    }
   ],
   "source": [
    "parent_rank"
   ]
  },
  {
   "cell_type": "code",
   "execution_count": 73,
   "id": "2bee26e2-2cf4-4ead-880e-2a5ffb1f6557",
   "metadata": {},
   "outputs": [
    {
     "data": {
      "text/plain": [
       "array([ 1,  4,  4,  5,  8,  7, 11, 13, 32, 18, 40, 35, 41, 40, 32, 57, 50,\n",
       "       51, 48, 37, 40, 44, 41, 37, 28, 31, 40, 19, 16, 17, 11,  8, 10,  8,\n",
       "        6,  4,  1,  1,  1,  1,  1,  1])"
      ]
     },
     "execution_count": 73,
     "metadata": {},
     "output_type": "execute_result"
    }
   ],
   "source": [
    "parent_offspring_number"
   ]
  },
  {
   "cell_type": "code",
   "execution_count": 74,
   "id": "2416da26-acaa-4b1a-ba1e-b7a6ad215d60",
   "metadata": {},
   "outputs": [],
   "source": [
    "parent_dict = {}\n",
    "\n",
    "for i, rank in enumerate(parent_rank):\n",
    "    parent_dict[rank] = parent_offspring_number[i]"
   ]
  },
  {
   "cell_type": "code",
   "execution_count": 75,
   "id": "1dc83c27-99dc-41d6-b84b-66e5f2c551b0",
   "metadata": {},
   "outputs": [
    {
     "data": {
      "text/plain": [
       "{31.0: 1,\n",
       " 33.0: 4,\n",
       " 34.0: 4,\n",
       " 35.0: 5,\n",
       " 36.0: 8,\n",
       " 37.0: 7,\n",
       " 38.0: 11,\n",
       " 39.0: 13,\n",
       " 40.0: 32,\n",
       " 41.0: 18,\n",
       " 42.0: 40,\n",
       " 43.0: 35,\n",
       " 44.0: 41,\n",
       " 45.0: 40,\n",
       " 46.0: 32,\n",
       " 47.0: 57,\n",
       " 48.0: 50,\n",
       " 49.0: 51,\n",
       " 50.0: 48,\n",
       " 51.0: 37,\n",
       " 52.0: 40,\n",
       " 53.0: 44,\n",
       " 54.0: 41,\n",
       " 55.0: 37,\n",
       " 56.0: 28,\n",
       " 57.0: 31,\n",
       " 58.0: 40,\n",
       " 59.0: 19,\n",
       " 60.0: 16,\n",
       " 61.0: 17,\n",
       " 62.0: 11,\n",
       " 63.0: 8,\n",
       " 64.0: 10,\n",
       " 65.0: 8,\n",
       " 66.0: 6,\n",
       " 67.0: 4,\n",
       " 68.0: 1,\n",
       " 69.0: 1,\n",
       " 71.0: 1,\n",
       " 73.0: 1,\n",
       " 74.0: 1,\n",
       " 80.0: 1}"
      ]
     },
     "execution_count": 75,
     "metadata": {},
     "output_type": "execute_result"
    }
   ],
   "source": [
    "parent_dict"
   ]
  },
  {
   "cell_type": "raw",
   "id": "31209668-c138-4a02-bb04-766d25bd1597",
   "metadata": {},
   "source": [
    "print(parent_dict.values().sum())"
   ]
  },
  {
   "cell_type": "code",
   "execution_count": null,
   "id": "938ca60c-339b-4027-a0d3-54f39eb7203c",
   "metadata": {},
   "outputs": [],
   "source": []
  }
 ],
 "metadata": {
  "kernelspec": {
   "display_name": "Python 3 (ipykernel)",
   "language": "python",
   "name": "python3"
  },
  "language_info": {
   "codemirror_mode": {
    "name": "ipython",
    "version": 3
   },
   "file_extension": ".py",
   "mimetype": "text/x-python",
   "name": "python",
   "nbconvert_exporter": "python",
   "pygments_lexer": "ipython3",
   "version": "3.11.7"
  }
 },
 "nbformat": 4,
 "nbformat_minor": 5
}
