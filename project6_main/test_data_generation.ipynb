{
 "cells": [
  {
   "cell_type": "code",
   "execution_count": 2,
   "id": "bf8f3e74-fd10-4e74-8a47-bd8d73921571",
   "metadata": {},
   "outputs": [],
   "source": [
    "from odell_tools import odell_hitting_strings as ohs"
   ]
  },
  {
   "cell_type": "code",
   "execution_count": 5,
   "id": "632955f3-33ef-4b81-863d-97d32a715cb4",
   "metadata": {},
   "outputs": [],
   "source": [
    "# Create some test files, based on instance parameters in \"A parallel multistart algorithm for the closest string problem\"\n",
    "# General step is to initialize our problem object with the desired number of strings (n) and length (m)\n",
    "# Then we can write the problem to a file, which will be named based on the parameters of the instance.\n",
    "# _GC72 refers to the fact that the GC content is set to 0.72, as per the paper.\n",
    "\n",
    "# N = 10 instances\n",
    "# Define our instance, which will randomly generate strings. But GC is set to frequency of 72%!\n",
    "csp = ohs.ClosestStringProblem(num_strings = 10, string_length = 1000, character_frequency = 0.72)\n",
    "csp.write_problem('_GC72')\n",
    "csp = ohs.ClosestStringProblem(num_strings = 10, string_length = 2000, character_frequency = 0.72)\n",
    "csp.write_problem('_GC72')\n",
    "csp = ohs.ClosestStringProblem(num_strings = 10, string_length = 3000, character_frequency = 0.72)\n",
    "csp.write_problem('_GC72')\n",
    "csp = ohs.ClosestStringProblem(num_strings = 10, string_length = 4000, character_frequency = 0.72)\n",
    "csp.write_problem('_GC72')\n",
    "csp = ohs.ClosestStringProblem(num_strings = 10, string_length = 5000, character_frequency = 0.72)\n",
    "csp.write_problem('_GC72')\n",
    "\n",
    "# N = 20 instances\n",
    "# Define our instance, which will randomly generate strings. But GC is set to frequency of 72%!\n",
    "csp = ohs.ClosestStringProblem(num_strings = 20, string_length = 1000, character_frequency = 0.72)\n",
    "csp.write_problem('_GC72')\n",
    "csp = ohs.ClosestStringProblem(num_strings = 20, string_length = 2000, character_frequency = 0.72)\n",
    "csp.write_problem('_GC72')\n",
    "csp = ohs.ClosestStringProblem(num_strings = 20, string_length = 3000, character_frequency = 0.72)\n",
    "csp.write_problem('_GC72')\n",
    "csp = ohs.ClosestStringProblem(num_strings = 20, string_length = 4000, character_frequency = 0.72)\n",
    "csp.write_problem('_GC72')\n",
    "csp = ohs.ClosestStringProblem(num_strings = 20, string_length = 5000, character_frequency = 0.72)\n",
    "csp.write_problem('_GC72')\n",
    "\n",
    "# N = 30 instances\n",
    "# Define our instance, which will randomly generate strings. But GC is set to frequency of 72%!\n",
    "csp = ohs.ClosestStringProblem(num_strings = 30, string_length = 1000, character_frequency = 0.72)\n",
    "csp.write_problem('_GC72')\n",
    "csp = ohs.ClosestStringProblem(num_strings = 30, string_length = 2000, character_frequency = 0.72)\n",
    "csp.write_problem('_GC72')\n",
    "csp = ohs.ClosestStringProblem(num_strings = 30, string_length = 3000, character_frequency = 0.72)\n",
    "csp.write_problem('_GC72')\n",
    "csp = ohs.ClosestStringProblem(num_strings = 30, string_length = 4000, character_frequency = 0.72)\n",
    "csp.write_problem('_GC72')\n",
    "csp = ohs.ClosestStringProblem(num_strings = 30, string_length = 5000, character_frequency = 0.72)\n",
    "csp.write_problem('_GC72')"
   ]
  }
 ],
 "metadata": {
  "kernelspec": {
   "display_name": "Python 3 (ipykernel)",
   "language": "python",
   "name": "python3"
  },
  "language_info": {
   "codemirror_mode": {
    "name": "ipython",
    "version": 3
   },
   "file_extension": ".py",
   "mimetype": "text/x-python",
   "name": "python",
   "nbconvert_exporter": "python",
   "pygments_lexer": "ipython3",
   "version": "3.11.7"
  }
 },
 "nbformat": 4,
 "nbformat_minor": 5
}
