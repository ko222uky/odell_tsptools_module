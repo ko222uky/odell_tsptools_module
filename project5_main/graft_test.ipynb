{
 "cells": [
  {
   "cell_type": "code",
   "execution_count": 7,
   "id": "a773091d-9b22-484c-9171-ddbc8b39e1cc",
   "metadata": {},
   "outputs": [
    {
     "name": "stdout",
     "output_type": "stream",
     "text": [
      "[1, 2, 4, 5, 3, 7]\n",
      "Final aggregated path: [1, 2, 4, 5, 3, 7]\n"
     ]
    }
   ],
   "source": [
    "def graft_paths(base_path, new_path):\n",
    "    \"\"\"\n",
    "    Grafts the new path onto the base path, ensuring each vertex appears only once.\n",
    "    \"\"\"\n",
    "    # Find overlap by locating the first common vertex\n",
    "    for vertex in new_path:\n",
    "        if vertex in base_path:\n",
    "            overlap_vertex = vertex\n",
    "\n",
    "            break\n",
    "    else:\n",
    "        # If no overlap, append only the vertices from the new_path that aren't in base_path\n",
    "        base_path.extend([v for v in new_path if v not in base_path])\n",
    "        return base_path\n",
    "\n",
    "    # Find the index of the overlap vertex in both paths\n",
    "    base_index = base_path.index(overlap_vertex)\n",
    "    new_index = new_path.index(overlap_vertex)\n",
    "\n",
    "    # Merge the two paths:\n",
    "    # 1. Insert the portion of the new path before the overlap at the correct place, excluding duplicates\n",
    "    for v in new_path[:new_index]:\n",
    "        if v not in base_path:\n",
    "            base_path.insert(base_index, v)\n",
    "            base_index += 1  # Increment base_index as we insert new elements\n",
    "\n",
    "    # 2. Append the part of the new path after the overlap, excluding duplicates\n",
    "    for v in new_path[new_index+1:]:\n",
    "        if v not in base_path:\n",
    "            base_path.append(v)\n",
    "\n",
    "    return base_path\n",
    "\n",
    "# Example usage\n",
    "path1 = [1, 2, 4, 5]\n",
    "path2 = [2, 3, 4, 7]\n",
    "path3 = [1, 5, 3, 7]\n",
    "path4 = [1, 2, 5, 3]\n",
    "\n",
    "# Start with the first path\n",
    "aggregated_path = path1\n",
    "\n",
    "# Graft each new path onto the aggregated path, ensuring no duplicates\n",
    "aggregated_path = graft_paths(aggregated_path, path2)\n",
    "print(aggregated_path\n",
    "aggregated_path = graft_paths(aggregated_path, path3)\n",
    "aggregated_path = graft_paths(aggregated_path, path4)\n",
    "\n",
    "print(\"Final aggregated path:\", aggregated_path)\n"
   ]
  },
  {
   "cell_type": "code",
   "execution_count": null,
   "id": "e49a85cd-14ca-42ed-be86-727fc5bcff05",
   "metadata": {},
   "outputs": [],
   "source": []
  }
 ],
 "metadata": {
  "kernelspec": {
   "display_name": "Python 3 (ipykernel)",
   "language": "python",
   "name": "python3"
  },
  "language_info": {
   "codemirror_mode": {
    "name": "ipython",
    "version": 3
   },
   "file_extension": ".py",
   "mimetype": "text/x-python",
   "name": "python",
   "nbconvert_exporter": "python",
   "pygments_lexer": "ipython3",
   "version": "3.12.3"
  }
 },
 "nbformat": 4,
 "nbformat_minor": 5
}
